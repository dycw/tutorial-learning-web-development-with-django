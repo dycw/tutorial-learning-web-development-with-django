{
 "cells": [
  {
   "cell_type": "code",
   "execution_count": 7,
   "id": "ca5ba696-6194-4ab8-a4ae-a6d326b21447",
   "metadata": {
    "execution": {
     "iopub.execute_input": "2022-04-16T02:20:38.304539Z",
     "iopub.status.busy": "2022-04-16T02:20:38.304264Z",
     "iopub.status.idle": "2022-04-16T02:20:38.320620Z",
     "shell.execute_reply": "2022-04-16T02:20:38.319949Z",
     "shell.execute_reply.started": "2022-04-16T02:20:38.304506Z"
    },
    "tags": []
   },
   "outputs": [],
   "source": [
    "class foo(str):\n",
    "    def __or__(self, other):\n",
    "        if not isinstance(other, cls:=type(self)):\n",
    "            return NotImplemented\n",
    "        return cls(\" \".join(sorted(set(chain(self.split(\" \"), other.split(\" \"))))))"
   ]
  },
  {
   "cell_type": "code",
   "execution_count": 8,
   "id": "b6e934f5-2cbf-41cd-922a-40db1701e43b",
   "metadata": {
    "execution": {
     "iopub.execute_input": "2022-04-16T02:20:38.493577Z",
     "iopub.status.busy": "2022-04-16T02:20:38.492909Z",
     "iopub.status.idle": "2022-04-16T02:20:38.516187Z",
     "shell.execute_reply": "2022-04-16T02:20:38.515558Z",
     "shell.execute_reply.started": "2022-04-16T02:20:38.493493Z"
    },
    "tags": []
   },
   "outputs": [
    {
     "data": {
      "text/plain": [
       "__main__.foo"
      ]
     },
     "execution_count": 8,
     "metadata": {},
     "output_type": "execute_result"
    },
    {
     "data": {
      "text/plain": [
       "__main__.foo"
      ]
     },
     "execution_count": 8,
     "metadata": {},
     "output_type": "execute_result"
    }
   ],
   "source": [
    "f=foo('btn')\n",
    "type(f)\n",
    "g=foo('btn-primary')\n",
    "type(g)\n"
   ]
  },
  {
   "cell_type": "code",
   "execution_count": 12,
   "id": "153cce8f-6c1f-4232-ba56-51863d1844ad",
   "metadata": {
    "execution": {
     "iopub.execute_input": "2022-04-16T02:21:12.199557Z",
     "iopub.status.busy": "2022-04-16T02:21:12.199288Z",
     "iopub.status.idle": "2022-04-16T02:21:12.222720Z",
     "shell.execute_reply": "2022-04-16T02:21:12.221920Z",
     "shell.execute_reply.started": "2022-04-16T02:21:12.199525Z"
    },
    "tags": []
   },
   "outputs": [
    {
     "data": {
      "text/plain": [
       "'btn btn-primary'"
      ]
     },
     "execution_count": 12,
     "metadata": {},
     "output_type": "execute_result"
    }
   ],
   "source": [
    "h=f|g|g\n",
    "h"
   ]
  },
  {
   "cell_type": "code",
   "execution_count": 11,
   "id": "89d65536-7b50-4c46-936b-b09d3ae71d1f",
   "metadata": {
    "execution": {
     "iopub.execute_input": "2022-04-16T02:20:52.324455Z",
     "iopub.status.busy": "2022-04-16T02:20:52.322524Z",
     "iopub.status.idle": "2022-04-16T02:20:52.350065Z",
     "shell.execute_reply": "2022-04-16T02:20:52.349325Z",
     "shell.execute_reply.started": "2022-04-16T02:20:52.324328Z"
    },
    "tags": []
   },
   "outputs": [
    {
     "data": {
      "text/plain": [
       "True"
      ]
     },
     "execution_count": 11,
     "metadata": {},
     "output_type": "execute_result"
    }
   ],
   "source": [
    "h==\"btn btn-primary\""
   ]
  }
 ],
 "metadata": {
  "kernelspec": {
   "display_name": "Python 3 (ipykernel)",
   "language": "python",
   "name": "python3"
  },
  "language_info": {
   "codemirror_mode": {
    "name": "ipython",
    "version": 3
   },
   "file_extension": ".py",
   "mimetype": "text/x-python",
   "name": "python",
   "nbconvert_exporter": "python",
   "pygments_lexer": "ipython3",
   "version": "3.10.0"
  }
 },
 "nbformat": 4,
 "nbformat_minor": 5
}
